{
 "cells": [
  {
   "cell_type": "code",
   "execution_count": 38,
   "id": "9665867c",
   "metadata": {},
   "outputs": [
    {
     "data": {
      "text/html": [
       "<div>\n",
       "<style scoped>\n",
       "    .dataframe tbody tr th:only-of-type {\n",
       "        vertical-align: middle;\n",
       "    }\n",
       "\n",
       "    .dataframe tbody tr th {\n",
       "        vertical-align: top;\n",
       "    }\n",
       "\n",
       "    .dataframe thead th {\n",
       "        text-align: right;\n",
       "    }\n",
       "</style>\n",
       "<table border=\"1\" class=\"dataframe\">\n",
       "  <thead>\n",
       "    <tr style=\"text-align: right;\">\n",
       "      <th></th>\n",
       "      <th>Game</th>\n",
       "      <th>Price</th>\n",
       "      <th>Genres</th>\n",
       "      <th>IGN_score</th>\n",
       "      <th>Release Date</th>\n",
       "      <th>Player Sentiment</th>\n",
       "      <th>Positive Reviews [%]</th>\n",
       "      <th>No. of Reviews</th>\n",
       "    </tr>\n",
       "  </thead>\n",
       "  <tbody>\n",
       "    <tr>\n",
       "      <th>0</th>\n",
       "      <td>Matchpoint - Tennis Championships</td>\n",
       "      <td>31.49</td>\n",
       "      <td>Simulation, Sports</td>\n",
       "      <td>5.0</td>\n",
       "      <td>2022-07-07</td>\n",
       "      <td>Mostly Positive</td>\n",
       "      <td>0.78</td>\n",
       "      <td>19</td>\n",
       "    </tr>\n",
       "  </tbody>\n",
       "</table>\n",
       "</div>"
      ],
      "text/plain": [
       "                                Game  Price               Genres  IGN_score  \\\n",
       "0  Matchpoint - Tennis Championships  31.49   Simulation, Sports        5.0   \n",
       "\n",
       "  Release Date Player Sentiment  Positive Reviews [%]  No. of Reviews  \n",
       "0   2022-07-07  Mostly Positive                  0.78              19  "
      ]
     },
     "execution_count": 38,
     "metadata": {},
     "output_type": "execute_result"
    }
   ],
   "source": [
    "# load the cleaned game data\n",
    "import pandas as pd \n",
    "\n",
    "game_df = pd.read_csv('cleaned_game_data.csv', index_col = [0])\n",
    "game_df.head(1)"
   ]
  },
  {
   "cell_type": "code",
   "execution_count": 39,
   "id": "d8ffd1e1",
   "metadata": {},
   "outputs": [
    {
     "data": {
      "text/html": [
       "<div>\n",
       "<style scoped>\n",
       "    .dataframe tbody tr th:only-of-type {\n",
       "        vertical-align: middle;\n",
       "    }\n",
       "\n",
       "    .dataframe tbody tr th {\n",
       "        vertical-align: top;\n",
       "    }\n",
       "\n",
       "    .dataframe thead th {\n",
       "        text-align: right;\n",
       "    }\n",
       "</style>\n",
       "<table border=\"1\" class=\"dataframe\">\n",
       "  <thead>\n",
       "    <tr style=\"text-align: right;\">\n",
       "      <th></th>\n",
       "      <th>Price</th>\n",
       "      <th>IGN_score</th>\n",
       "      <th>Positive Reviews [%]</th>\n",
       "      <th>No. of Reviews</th>\n",
       "    </tr>\n",
       "  </thead>\n",
       "  <tbody>\n",
       "    <tr>\n",
       "      <th>count</th>\n",
       "      <td>384.000000</td>\n",
       "      <td>384.000000</td>\n",
       "      <td>384.000000</td>\n",
       "      <td>3.840000e+02</td>\n",
       "    </tr>\n",
       "    <tr>\n",
       "      <th>mean</th>\n",
       "      <td>25.848776</td>\n",
       "      <td>7.420833</td>\n",
       "      <td>0.795573</td>\n",
       "      <td>2.823946e+04</td>\n",
       "    </tr>\n",
       "    <tr>\n",
       "      <th>std</th>\n",
       "      <td>13.174299</td>\n",
       "      <td>1.435664</td>\n",
       "      <td>0.140492</td>\n",
       "      <td>1.199789e+05</td>\n",
       "    </tr>\n",
       "    <tr>\n",
       "      <th>min</th>\n",
       "      <td>0.000000</td>\n",
       "      <td>2.000000</td>\n",
       "      <td>0.250000</td>\n",
       "      <td>1.600000e+01</td>\n",
       "    </tr>\n",
       "    <tr>\n",
       "      <th>25%</th>\n",
       "      <td>15.490000</td>\n",
       "      <td>7.000000</td>\n",
       "      <td>0.720000</td>\n",
       "      <td>8.272500e+02</td>\n",
       "    </tr>\n",
       "    <tr>\n",
       "      <th>50%</th>\n",
       "      <td>24.990000</td>\n",
       "      <td>8.000000</td>\n",
       "      <td>0.830000</td>\n",
       "      <td>3.948500e+03</td>\n",
       "    </tr>\n",
       "    <tr>\n",
       "      <th>75%</th>\n",
       "      <td>34.990000</td>\n",
       "      <td>8.500000</td>\n",
       "      <td>0.900000</td>\n",
       "      <td>1.561975e+04</td>\n",
       "    </tr>\n",
       "    <tr>\n",
       "      <th>max</th>\n",
       "      <td>59.990000</td>\n",
       "      <td>10.000000</td>\n",
       "      <td>0.980000</td>\n",
       "      <td>2.043532e+06</td>\n",
       "    </tr>\n",
       "  </tbody>\n",
       "</table>\n",
       "</div>"
      ],
      "text/plain": [
       "            Price   IGN_score  Positive Reviews [%]  No. of Reviews\n",
       "count  384.000000  384.000000            384.000000    3.840000e+02\n",
       "mean    25.848776    7.420833              0.795573    2.823946e+04\n",
       "std     13.174299    1.435664              0.140492    1.199789e+05\n",
       "min      0.000000    2.000000              0.250000    1.600000e+01\n",
       "25%     15.490000    7.000000              0.720000    8.272500e+02\n",
       "50%     24.990000    8.000000              0.830000    3.948500e+03\n",
       "75%     34.990000    8.500000              0.900000    1.561975e+04\n",
       "max     59.990000   10.000000              0.980000    2.043532e+06"
      ]
     },
     "execution_count": 39,
     "metadata": {},
     "output_type": "execute_result"
    }
   ],
   "source": [
    "# What are the descriptive statistics?\n",
    "game_df.describe()"
   ]
  },
  {
   "cell_type": "code",
   "execution_count": 11,
   "id": "95ae96aa",
   "metadata": {},
   "outputs": [
    {
     "data": {
      "text/plain": [
       "3948.5"
      ]
     },
     "execution_count": 11,
     "metadata": {},
     "output_type": "execute_result"
    }
   ],
   "source": [
    "# get the median and the range for No. of Reviews\n",
    "NOR_med = game_df['No. of Reviews'].median()\n",
    "NOR_med"
   ]
  },
  {
   "cell_type": "markdown",
   "id": "dd301b4e",
   "metadata": {},
   "source": [
    "Observations:\n",
    "\n",
    "1. IGN reviews score games on a scale from 1 to 10. The mean score is 7.4. According to the IGN website 7 corresponds to a rating of 'good'. Intuitively you might guess the mean should be 5.5. Likely IGN intentionally review games they think will be popular/good.\n",
    "\n",
    "2. Similarly the mean player positive review % is above 0.5% at 0.8%. Likely because IGN reviews the types of games that are anticipated/enjoyed by players.\n",
    "\n",
    "3. For no. of reviews left by players the std is greater than the mean. The median of the no. of reviews is an order less than the mean so the data is positively skewed. Maybe some really popular games get an unusually high no. of reviews."
   ]
  },
  {
   "cell_type": "code",
   "execution_count": 40,
   "id": "01de57f8",
   "metadata": {},
   "outputs": [
    {
     "data": {
      "image/png": "[encoded data removed]",
      "text/plain": [
       "<Figure size 720x504 with 4 Axes>"
      ]
     },
     "metadata": {
      "needs_background": "light"
     },
     "output_type": "display_data"
    }
   ],
   "source": [
    "# Plot histograms to visualise the distrabution of data for each numerical column.\n",
    "game_df.hist(figsize = (10,7));"
   ]
  },
  {
   "cell_type": "code",
   "execution_count": 41,
   "id": "20c700d8",
   "metadata": {},
   "outputs": [
    {
     "data": {
      "text/html": [
       "<div>\n",
       "<style scoped>\n",
       "    .dataframe tbody tr th:only-of-type {\n",
       "        vertical-align: middle;\n",
       "    }\n",
       "\n",
       "    .dataframe tbody tr th {\n",
       "        vertical-align: top;\n",
       "    }\n",
       "\n",
       "    .dataframe thead th {\n",
       "        text-align: right;\n",
       "    }\n",
       "</style>\n",
       "<table border=\"1\" class=\"dataframe\">\n",
       "  <thead>\n",
       "    <tr style=\"text-align: right;\">\n",
       "      <th></th>\n",
       "      <th>Game</th>\n",
       "      <th>Price</th>\n",
       "      <th>Genres</th>\n",
       "      <th>IGN_score</th>\n",
       "      <th>Release Date</th>\n",
       "      <th>Player Sentiment</th>\n",
       "      <th>Positive Reviews [%]</th>\n",
       "      <th>No. of Reviews</th>\n",
       "    </tr>\n",
       "  </thead>\n",
       "  <tbody>\n",
       "    <tr>\n",
       "      <th>49</th>\n",
       "      <td>PUBG: Battlegrounds</td>\n",
       "      <td>0.0</td>\n",
       "      <td>Action, Adventure, Free to Play, Massively Mu...</td>\n",
       "      <td>8.0</td>\n",
       "      <td>2017-12-21</td>\n",
       "      <td>Mixed</td>\n",
       "      <td>0.56</td>\n",
       "      <td>2043532</td>\n",
       "    </tr>\n",
       "  </tbody>\n",
       "</table>\n",
       "</div>"
      ],
      "text/plain": [
       "                   Game  Price  \\\n",
       "49  PUBG: Battlegrounds    0.0   \n",
       "\n",
       "                                               Genres  IGN_score Release Date  \\\n",
       "49   Action, Adventure, Free to Play, Massively Mu...        8.0   2017-12-21   \n",
       "\n",
       "   Player Sentiment  Positive Reviews [%]  No. of Reviews  \n",
       "49            Mixed                  0.56         2043532  "
      ]
     },
     "execution_count": 41,
     "metadata": {},
     "output_type": "execute_result"
    }
   ],
   "source": [
    "# What is the game of the game at the right of the histogram?\n",
    "\n",
    "game_df[game_df['No. of Reviews'] > 1*10**6]\n",
    "\n",
    "# PUBG is a massively mutiplayer game and free to play. \n",
    "# It is one of the most popular games on Steam with 527K peak concurrent players as of April 2022."
   ]
  },
  {
   "cell_type": "markdown",
   "id": "4a7fe156",
   "metadata": {},
   "source": [
    "Now I have general overview of the distribution of data in numerical columns. Next I can explore what impact game genre has on price, IGN review score, and positive player review %:"
   ]
  },
  {
   "cell_type": "code",
   "execution_count": 51,
   "id": "9bfed28a",
   "metadata": {},
   "outputs": [
    {
     "data": {
      "image/png": "[encoded data removed]",
      "text/plain": [
       "<Figure size 432x288 with 1 Axes>"
      ]
     },
     "metadata": {
      "needs_background": "light"
     },
     "output_type": "display_data"
    }
   ],
   "source": [
    "# What is the distribution of genres in the data?\n",
    "\n",
    "genres = game_df['Genres'].str.split(',', expand=True).stack().value_counts()\n",
    "genres_df = pd.DataFrame(genres).reset_index()\n",
    "genres_df.rename(columns = {'index':'Genre',0:'Count'}, inplace = True)\n",
    "plt.bar(genres_df['Genre'],genres_df['Count'])\n",
    "plt.xticks(rotation=90);"
   ]
  },
  {
   "cell_type": "code",
   "execution_count": 53,
   "id": "5a52e15d",
   "metadata": {},
   "outputs": [
    {
     "data": {
      "text/plain": [
       "<Figure size 432x288 with 0 Axes>"
      ]
     },
     "metadata": {},
     "output_type": "display_data"
    },
    {
     "data": {
      "image/png": "[encoded data removed]",
      "text/plain": [
       "<Figure size 432x288 with 1 Axes>"
      ]
     },
     "metadata": {
      "needs_background": "light"
     },
     "output_type": "display_data"
    },
    {
     "data": {
      "image/png": "[encoded data removed]",
      "text/plain": [
       "<Figure size 432x288 with 1 Axes>"
      ]
     },
     "metadata": {
      "needs_background": "light"
     },
     "output_type": "display_data"
    },
    {
     "data": {
      "image/png": "[encoded data removed]",
      "text/plain": [
       "<Figure size 432x288 with 1 Axes>"
      ]
     },
     "metadata": {
      "needs_background": "light"
     },
     "output_type": "display_data"
    }
   ],
   "source": [
    "#What are the average game price, IGN review score, and positve review % for each genre?\n",
    "\n",
    "genres = ['Simulation', 'Sports', 'Action', 'Adventure', 'Indie', 'Racing',\n",
    "   'RPG', 'Strategy', 'Casual', 'Early Access', 'Massively Multiplayer',\n",
    "   'Free to Play']\n",
    "\n",
    "ave_price = []\n",
    "ave_score = []\n",
    "ave_pos = []\n",
    "for genre in genres:\n",
    "    \n",
    "    bool_series = game_df['Genres'].str.contains(genre) #get genre bool\n",
    "    value1 = (game_df['Price']).loc[bool_series].mean()\n",
    "    ave_price.append(value1)\n",
    "    value2 = (game_df['IGN_score']).loc[bool_series].mean()\n",
    "    ave_score.append(value2)\n",
    "    value3 = (game_df['Positive Reviews [%]']).loc[bool_series].mean()\n",
    "    ave_pos.append(value3)\n",
    "    \n",
    "all_data = {'Genre':genres}\n",
    "all_data['Ave. Price'] = ave_price\n",
    "all_data['Ave. Score'] = ave_score\n",
    "all_data['Ave. Pos. Rev.'] = ave_pos\n",
    "\n",
    "ave_df = pd.DataFrame(all_data)\n",
    "ave_df.sort_values(by = ['Ave. Price'], ascending = False, inplace = True)\n",
    "\n",
    "plt.figure(1)\n",
    "ave_df.plot(x = 'Genre', y = ['Ave. Price'], kind = 'bar')\n",
    "plt.legend(loc='center left', bbox_to_anchor=(1.0, 0.5))\n",
    "plt.ylabel('Average Price [£]');\n",
    "\n",
    "ave_df.sort_values(by = ['Ave. Score'], ascending = False, inplace = True)\n",
    "\n",
    "plt.figure(2)\n",
    "ave_df.plot(x = 'Genre', y = ['Ave. Score'], kind = 'bar')\n",
    "plt.legend(loc='center left', bbox_to_anchor=(1.0, 0.5))\n",
    "plt.ylabel('Average IGN score');\n",
    "plt.ylim(6.5,8)\n",
    "\n",
    "ave_df.sort_values(by = ['Ave. Pos. Rev.'], ascending = False, inplace = True)\n",
    "\n",
    "plt.figure(3)\n",
    "ave_df.plot(x = 'Genre', y = ['Ave. Pos. Rev.'], kind = 'bar')\n",
    "plt.legend(loc='center left', bbox_to_anchor=(1.0, 0.5))\n",
    "plt.ylabel('Average Pos. Rev. [%]');\n",
    "plt.ylim(0.65,0.9);"
   ]
  },
  {
   "cell_type": "code",
   "execution_count": 30,
   "id": "a25be546",
   "metadata": {},
   "outputs": [],
   "source": [
    "# game_df.loc[game_df['Genres'].str.contains('Free to Play')]\n",
    "# The non zero average price of the free to play genre is due to two Destiny games..."
   ]
  },
  {
   "cell_type": "markdown",
   "id": "e44c28fc",
   "metadata": {},
   "source": [
    "Price:\n",
    "\n",
    "There are three rough groups that different genres are priced at. Around £25, around £20 and free to play. Interestingly the free to play group does not cost £0 on average but approx. £5. This is due to two full price games labelled as free to play?\n",
    "\n",
    "IGN score:\n",
    "\n",
    "Again we see that the distribution of IGN scores is quite narrow. Notably they score early access games noticeably less than other genres on average.\n",
    "\n",
    "Positive review %:\n",
    "\n",
    "It is more clear for players what they like/dislike or review favourable/poorly. Players least like genre on average is free to play unlike the IGN reviewers. \n",
    "\n",
    "***\n",
    "Next how do the opinions of the IGN reviews compare to the player reviewers?:\n"
   ]
  },
  {
   "cell_type": "code",
   "execution_count": 54,
   "id": "1485c7a2",
   "metadata": {},
   "outputs": [
    {
     "data": {
      "text/html": [
       "<div>\n",
       "<style scoped>\n",
       "    .dataframe tbody tr th:only-of-type {\n",
       "        vertical-align: middle;\n",
       "    }\n",
       "\n",
       "    .dataframe tbody tr th {\n",
       "        vertical-align: top;\n",
       "    }\n",
       "\n",
       "    .dataframe thead th {\n",
       "        text-align: right;\n",
       "    }\n",
       "</style>\n",
       "<table border=\"1\" class=\"dataframe\">\n",
       "  <thead>\n",
       "    <tr style=\"text-align: right;\">\n",
       "      <th></th>\n",
       "      <th>IGN_score round</th>\n",
       "      <th>Positive Reviews [%]</th>\n",
       "    </tr>\n",
       "  </thead>\n",
       "  <tbody>\n",
       "    <tr>\n",
       "      <th>IGN_score round</th>\n",
       "      <td>1.000000</td>\n",
       "      <td>0.944821</td>\n",
       "    </tr>\n",
       "    <tr>\n",
       "      <th>Positive Reviews [%]</th>\n",
       "      <td>0.944821</td>\n",
       "      <td>1.000000</td>\n",
       "    </tr>\n",
       "  </tbody>\n",
       "</table>\n",
       "</div>"
      ],
      "text/plain": [
       "                      IGN_score round  Positive Reviews [%]\n",
       "IGN_score round              1.000000              0.944821\n",
       "Positive Reviews [%]         0.944821              1.000000"
      ]
     },
     "execution_count": 54,
     "metadata": {},
     "output_type": "execute_result"
    },
    {
     "data": {
      "image/png": "[encoded data removed]",
      "text/plain": [
       "<Figure size 432x288 with 1 Axes>"
      ]
     },
     "metadata": {
      "needs_background": "light"
     },
     "output_type": "display_data"
    }
   ],
   "source": [
    "# Need to directly compare IGN score and positive review percentage.\n",
    "# Get the relationship between them.\n",
    "\n",
    "import numpy as np\n",
    "game_df['IGN_score round'] = game_df['IGN_score'].round()\n",
    "# Get int ign scores to make larger groupings\n",
    "ave_score = game_df.groupby(['IGN_score round'])['Positive Reviews [%]'].mean().reset_index()\n",
    "# somehow reset index makes it a dataframe\n",
    "\n",
    "plt.scatter(x = ave_score['IGN_score round'], y = ave_score['Positive Reviews [%]'])\n",
    "z = np.polyfit(ave_score['IGN_score round'],ave_score['Positive Reviews [%]'],1)\n",
    "p = np.poly1d(z)\n",
    "plt.plot(ave_score['IGN_score round'], p(ave_score['IGN_score round']))\n",
    "plt.xlabel('IGN Score [Int]')\n",
    "plt.ylabel('Positive Player Reviews [%] [Ave]')\n",
    "\n",
    "ave_score.corr()"
   ]
  },
  {
   "cell_type": "code",
   "execution_count": 55,
   "id": "214ee38e",
   "metadata": {},
   "outputs": [
    {
     "data": {
      "text/html": [
       "<div>\n",
       "<style scoped>\n",
       "    .dataframe tbody tr th:only-of-type {\n",
       "        vertical-align: middle;\n",
       "    }\n",
       "\n",
       "    .dataframe tbody tr th {\n",
       "        vertical-align: top;\n",
       "    }\n",
       "\n",
       "    .dataframe thead th {\n",
       "        text-align: right;\n",
       "    }\n",
       "</style>\n",
       "<table border=\"1\" class=\"dataframe\">\n",
       "  <thead>\n",
       "    <tr style=\"text-align: right;\">\n",
       "      <th></th>\n",
       "      <th>Genre</th>\n",
       "      <th>Ave. Price</th>\n",
       "      <th>Ave. Score</th>\n",
       "      <th>Ave. Pos. Rev.</th>\n",
       "      <th>Converted Score</th>\n",
       "    </tr>\n",
       "  </thead>\n",
       "  <tbody>\n",
       "    <tr>\n",
       "      <th>4</th>\n",
       "      <td>Indie</td>\n",
       "      <td>18.569774</td>\n",
       "      <td>7.628571</td>\n",
       "      <td>0.846692</td>\n",
       "      <td>0.798200</td>\n",
       "    </tr>\n",
       "    <tr>\n",
       "      <th>8</th>\n",
       "      <td>Casual</td>\n",
       "      <td>19.548462</td>\n",
       "      <td>7.623077</td>\n",
       "      <td>0.821154</td>\n",
       "      <td>0.797892</td>\n",
       "    </tr>\n",
       "    <tr>\n",
       "      <th>9</th>\n",
       "      <td>Early Access</td>\n",
       "      <td>24.674615</td>\n",
       "      <td>6.830769</td>\n",
       "      <td>0.804615</td>\n",
       "      <td>0.753523</td>\n",
       "    </tr>\n",
       "    <tr>\n",
       "      <th>3</th>\n",
       "      <td>Adventure</td>\n",
       "      <td>24.967065</td>\n",
       "      <td>7.298370</td>\n",
       "      <td>0.802120</td>\n",
       "      <td>0.779709</td>\n",
       "    </tr>\n",
       "    <tr>\n",
       "      <th>7</th>\n",
       "      <td>Strategy</td>\n",
       "      <td>28.523443</td>\n",
       "      <td>7.649180</td>\n",
       "      <td>0.790984</td>\n",
       "      <td>0.799354</td>\n",
       "    </tr>\n",
       "    <tr>\n",
       "      <th>0</th>\n",
       "      <td>Simulation</td>\n",
       "      <td>27.492264</td>\n",
       "      <td>7.501887</td>\n",
       "      <td>0.786226</td>\n",
       "      <td>0.791106</td>\n",
       "    </tr>\n",
       "    <tr>\n",
       "      <th>2</th>\n",
       "      <td>Action</td>\n",
       "      <td>26.497991</td>\n",
       "      <td>7.350000</td>\n",
       "      <td>0.786154</td>\n",
       "      <td>0.782600</td>\n",
       "    </tr>\n",
       "    <tr>\n",
       "      <th>5</th>\n",
       "      <td>Racing</td>\n",
       "      <td>26.323333</td>\n",
       "      <td>7.566667</td>\n",
       "      <td>0.785185</td>\n",
       "      <td>0.794733</td>\n",
       "    </tr>\n",
       "    <tr>\n",
       "      <th>6</th>\n",
       "      <td>RPG</td>\n",
       "      <td>27.498947</td>\n",
       "      <td>7.291228</td>\n",
       "      <td>0.781053</td>\n",
       "      <td>0.779309</td>\n",
       "    </tr>\n",
       "    <tr>\n",
       "      <th>1</th>\n",
       "      <td>Sports</td>\n",
       "      <td>26.046296</td>\n",
       "      <td>7.218519</td>\n",
       "      <td>0.753333</td>\n",
       "      <td>0.775237</td>\n",
       "    </tr>\n",
       "    <tr>\n",
       "      <th>10</th>\n",
       "      <td>Massively Multiplayer</td>\n",
       "      <td>17.137778</td>\n",
       "      <td>7.366667</td>\n",
       "      <td>0.725556</td>\n",
       "      <td>0.783533</td>\n",
       "    </tr>\n",
       "    <tr>\n",
       "      <th>11</th>\n",
       "      <td>Free to Play</td>\n",
       "      <td>4.613846</td>\n",
       "      <td>7.500000</td>\n",
       "      <td>0.699231</td>\n",
       "      <td>0.791000</td>\n",
       "    </tr>\n",
       "  </tbody>\n",
       "</table>\n",
       "</div>"
      ],
      "text/plain": [
       "                    Genre  Ave. Price  Ave. Score  Ave. Pos. Rev.  \\\n",
       "4                   Indie   18.569774    7.628571        0.846692   \n",
       "8                  Casual   19.548462    7.623077        0.821154   \n",
       "9            Early Access   24.674615    6.830769        0.804615   \n",
       "3               Adventure   24.967065    7.298370        0.802120   \n",
       "7                Strategy   28.523443    7.649180        0.790984   \n",
       "0              Simulation   27.492264    7.501887        0.786226   \n",
       "2                  Action   26.497991    7.350000        0.786154   \n",
       "5                  Racing   26.323333    7.566667        0.785185   \n",
       "6                     RPG   27.498947    7.291228        0.781053   \n",
       "1                  Sports   26.046296    7.218519        0.753333   \n",
       "10  Massively Multiplayer   17.137778    7.366667        0.725556   \n",
       "11           Free to Play    4.613846    7.500000        0.699231   \n",
       "\n",
       "    Converted Score  \n",
       "4          0.798200  \n",
       "8          0.797892  \n",
       "9          0.753523  \n",
       "3          0.779709  \n",
       "7          0.799354  \n",
       "0          0.791106  \n",
       "2          0.782600  \n",
       "5          0.794733  \n",
       "6          0.779309  \n",
       "1          0.775237  \n",
       "10         0.783533  \n",
       "11         0.791000  "
      ]
     },
     "execution_count": 55,
     "metadata": {},
     "output_type": "execute_result"
    }
   ],
   "source": [
    "# Convert IGN score to same measure as positive player review.\n",
    "# Coefficients taken from fit p\n",
    "ave_df['Converted Score'] = (0.056*ave_df['Ave. Score']) + 0.371\n",
    "ave_df"
   ]
  },
  {
   "cell_type": "code",
   "execution_count": 57,
   "id": "4b756a13",
   "metadata": {},
   "outputs": [
    {
     "data": {
      "image/png": "[encoded data removed]",
      "text/plain": [
       "<Figure size 432x288 with 1 Axes>"
      ]
     },
     "metadata": {
      "needs_background": "light"
     },
     "output_type": "display_data"
    }
   ],
   "source": [
    "# Comparison between players and reviewers \n",
    "\n",
    "ave_df['diff'] = abs(ave_df['Ave. Pos. Rev.']-ave_df['Converted Score'])\n",
    "\n",
    "ave_df.sort_values(by = ['diff'], ascending = True, inplace = True) \n",
    "\n",
    "# sorted by magnitude of difference of player positive % and IGN positive %\n",
    "\n",
    "x_axis = np.arange(len(ave_df['Genre']))\n",
    "\n",
    "plt.figure(3)\n",
    "plt.bar(x = x_axis + 0.2, height = ave_df['Ave. Pos. Rev.'], width = 0.4, label = 'Steam Players')\n",
    "plt.bar(x = x_axis - 0.2, height = ave_df['Converted Score'], width = 0.4, label = 'IGN')\n",
    "\n",
    "plt.legend(loc='center left', bbox_to_anchor=(1.0, 0.5))\n",
    "plt.ylabel('Average Pos. Rev. [%]');\n",
    "plt.ylim(0.65,0.9);\n",
    "\n",
    "plt.xticks(x_axis, ave_df['Genre'])\n",
    "plt.xticks(rotation=90);"
   ]
  },
  {
   "cell_type": "markdown",
   "id": "6f91a6ae",
   "metadata": {},
   "source": [
    "~ 0.05% is equivalent to 1 level in the IGN rating system\n",
    "\n",
    "For the same games:\n",
    "\n",
    "1. Players rate indie and early access games 1 score level higher than IGN. \n",
    "\n",
    "2. Players rate free to play games 2 score levels lower than IGN. Massively multiplayer 1 score level lower.\n",
    "\n",
    "3. Other than Indie, Early access, Free to play, & massively multiplayer games IGN reviews agree well with player sentiment."
   ]
  }
 ],
 "metadata": {
  "kernelspec": {
   "display_name": "Python 3 (ipykernel)",
   "language": "python",
   "name": "python3"
  },
  "language_info": {
   "codemirror_mode": {
    "name": "ipython",
    "version": 3
   },
   "file_extension": ".py",
   "mimetype": "text/x-python",
   "name": "python",
   "nbconvert_exporter": "python",
   "pygments_lexer": "ipython3",
   "version": "3.9.7"
  }
 },
 "nbformat": 4,
 "nbformat_minor": 5
}
