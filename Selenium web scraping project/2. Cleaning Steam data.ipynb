{
 "cells": [
  {
   "cell_type": "markdown",
   "id": "71b96a73",
   "metadata": {},
   "source": [
    "Having scraped data from IGN and Steam using Selenium I now have to clean the data. \n",
    "\n",
    "This will include modifying incorrect values, looking for null values, looking for duplicate rows, and formatting the date.  \n",
    "\n",
    "First I load my data into a pandas dataframe:"
   ]
  },
  {
   "cell_type": "code",
   "execution_count": null,
   "id": "4e649b96",
   "metadata": {},
   "outputs": [],
   "source": [
    "import pandas as pd\n",
    "\n",
    "game_df = pd.read_csv('game_df.csv')\n",
    "game_df.drop('Unnamed: 0', inplace = True, axis=1) #drop extra index column\n",
    "game_df.tail(10)"
   ]
  },
  {
   "cell_type": "markdown",
   "id": "4ee7515d",
   "metadata": {},
   "source": [
    "From visual inspection of the CSV file I can see that some of the data in the player sentiment column have incorrect spelling. Specifically they have and extra '*' symbol.  \n",
    "\n",
    "Using the pandas unique method I can see there are also two other incorrect values: 'No user reviews' and '8 user reviews'."
   ]
  },
  {
   "cell_type": "code",
   "execution_count": null,
   "id": "ad8945d6",
   "metadata": {},
   "outputs": [],
   "source": [
    "# use loc to identify cells based on condition that need to be changed\n",
    "import numpy as np\n",
    "game_df.loc[ game_df['Player Sentiment'] == 'Overwhelmingly Positive *', 'Player Sentiment'] = 'Overwhelmingly Positive'\n",
    "game_df.loc[ game_df['Player Sentiment'] == 'Mostly Positive *', 'Player Sentiment'] = 'Mostly Positive'\n",
    "game_df.loc[ game_df['Player Sentiment'] == 'Very Positive *', 'Player Sentiment'] = 'Very Positive'\n",
    "game_df.loc[ game_df['Player Sentiment'] == 'Mixed *', 'Player Sentiment'] = 'Mixed'\n",
    "\n",
    "game_df.loc[ game_df['Player Sentiment'] == 'No user reviews', 'Player Sentiment'] = np.nan\n",
    "game_df.loc[ game_df['Player Sentiment'] == '8 user reviews', 'Player Sentiment'] = np.nan\n",
    "\n",
    "game_df['Player Sentiment'].value_counts() # make sure all values are allowed"
   ]
  },
  {
   "cell_type": "markdown",
   "id": "32d9c3a4",
   "metadata": {},
   "source": [
    "Next I want to look for missing values. \n",
    "\n",
    "I did this by going column-by-column and finding null values. Then manually fixing the missing data at the corresponding indices.\n",
    "\n",
    "I kept a record of each manual change that I made."
   ]
  },
  {
   "cell_type": "code",
   "execution_count": null,
   "id": "4273ff00",
   "metadata": {},
   "outputs": [],
   "source": [
    "# find no. of null values\n",
    "game_df['Price'].isnull().sum()\n",
    "# get the indices of the null values\n",
    "game_df[game_df['Price'].isnull()].index\n",
    "# replace null values\n",
    "game_df.loc[379 ,'Price'] = 0.0\n",
    "\n",
    "#game_df.drop(356, inplace = True) #drop row is nessesary\n",
    "#game_df.reset_index(drop = True, inplace = True) #reset dataframe index\n",
    "\n",
    "game_df.isnull().sum() #finally check all null values were corrected"
   ]
  },
  {
   "cell_type": "markdown",
   "id": "e7ee2221",
   "metadata": {},
   "source": [
    "I had to drop some games because despite being reviewed by IGN and listed on Steam they are not available for purchase yet.\n",
    "\n",
    "A majority of missing values were missing price data. These games are free to play on Steam so I just set their price to 0.0."
   ]
  },
  {
   "cell_type": "code",
   "execution_count": null,
   "id": "e84f069b",
   "metadata": {},
   "outputs": [],
   "source": [
    "#look for duplicate rows\n",
    "bool_df = game_df.duplicated(subset = ['Positive Reviews [%]','No. of Reviews'], keep = False)\n",
    "game_df[bool_df == True] #display duplicates\n",
    "# 6 duplicate rows including the firsts.\n",
    "\n",
    "#remove duplicates\n",
    "game_df.drop_duplicates(subset = ['Positive Reviews [%]','No. of Reviews'], keep = 'first', inplace = True)\n",
    "bool_df = game_df.duplicated(subset = ['Positive Reviews [%]','No. of Reviews'], keep = False)\n",
    "game_df[bool_df == True]\n",
    "#All duplicates, apart from the first, have been dropped."
   ]
  },
  {
   "cell_type": "code",
   "execution_count": null,
   "id": "6608b175",
   "metadata": {},
   "outputs": [],
   "source": [
    "# convert from string to date time\n",
    "game_df['Release Date'] = game_df['Release Date'].astype('datetime64[ns]')"
   ]
  }
 ],
 "metadata": {
  "kernelspec": {
   "display_name": "Python 3 (ipykernel)",
   "language": "python",
   "name": "python3"
  },
  "language_info": {
   "codemirror_mode": {
    "name": "ipython",
    "version": 3
   },
   "file_extension": ".py",
   "mimetype": "text/x-python",
   "name": "python",
   "nbconvert_exporter": "python",
   "pygments_lexer": "ipython3",
   "version": "3.9.7"
  }
 },
 "nbformat": 4,
 "nbformat_minor": 5
}
